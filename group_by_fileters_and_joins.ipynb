{
  "cells": [
    {
      "cell_type": "code",
      "execution_count": null,
      "metadata": {
        "id": "UApW6pULcDch"
      },
      "outputs": [],
      "source": [
        "from pyspark.sql import SparkSession\n",
        "spark=SparkSession.builder.getOrCreate()\n",
        "from pyspark.sql.types import StructType, StructField, StringType, IntegerType, DoubleType\n",
        "from pyspark.sql.functions import col"
      ]
    },
    {
      "cell_type": "code",
      "execution_count": null,
      "metadata": {
        "id": "wLehBQs-cmVz"
      },
      "outputs": [],
      "source": [
        "data = [\n",
        "    (1, \"Anita\", 20, \"F\", \"BCA\", 85),\n",
        "    (2, \"Rohit\", 21, \"M\", \"BSc\", 78),\n",
        "    (3, \"Priya\", 19, \"F\", \"BCom\", 90),\n",
        "    (4, \"Karan\", 22, \"M\", \"BA\", 65),\n",
        "    (5, \"Neha\", 20, \"F\", \"BSc\", 72),\n",
        "    (6, \"Suresh\", 23, \"M\", \"BCA\", 88),\n",
        "    (7, \"Divya\", 21, \"F\", \"BA\", 69),\n",
        "    (8, \"Ajay\", 20, \"M\", \"BCom\", 75),\n",
        "    (9, \"Sonia\", 22, \"F\", \"BCA\", 92),\n",
        "    (10, \"Arjun\", 19, \"M\", \"BSc\", 60),\n",
        "    (11, \"Meena\", 20, \"F\", \"BCom\", 84),\n",
        "    (12, \"Raj\", 21, \"M\", \"BA\", 70),\n",
        "    (13, \"Asha\", 22, \"F\", \"BSc\", 73),\n",
        "    (14, \"Nikhil\", 20, \"M\", \"BCA\", 79),\n",
        "    (15, \"Preeti\", 23, \"F\", \"BCom\", 86),\n",
        "    (16, \"Manoj\", 21, \"M\", \"BA\", 66),\n",
        "    (17, \"Swati\", 20, \"F\", \"BSc\", 80),\n",
        "    (18, \"Deepak\", 22, \"M\", \"BCA\", 74),\n",
        "    (19, \"Kavya\", 19, \"F\", \"BCom\", 91),\n",
        "    (20, \"Imran\", 23, \"M\", \"BA\", 58),\n",
        "    (21, \"Ritika\", 21, \"F\", \"BCA\", 77),\n",
        "    (22, \"Amit\", 22, \"M\", \"BSc\", 83),\n",
        "    (23, \"Sakshi\", 20, \"F\", \"BCom\", 68),\n",
        "    (24, \"Vinay\", 21, \"M\", \"BA\", 61),\n",
        "    (25, \"Pooja\", 22, \"F\", \"BSc\", 87),\n",
        "    (26, \"Anil\", 20, \"M\", \"BCA\", 90),\n",
        "    (27, \"Rekha\", 19, \"F\", \"BA\", 74),\n",
        "    (28, \"Tushar\", 23, \"M\", \"BCom\", 82),\n",
        "    (29, \"Sneha\", 21, \"F\", \"BSc\", 76),\n",
        "    (30, \"Ravi\", 22, \"M\", \"BCA\", 88)\n",
        "]"
      ]
    },
    {
      "cell_type": "code",
      "execution_count": null,
      "metadata": {
        "colab": {
          "background_save": true
        },
        "id": "KQI7mIxxoNO9"
      },
      "outputs": [],
      "source": [
        "schema = StructType([\n",
        "    StructField(\"student_id\", IntegerType(), True),\n",
        "    StructField(\"name\", StringType(), True),\n",
        "    StructField(\"age\", IntegerType(), True),\n",
        "    StructField(\"gender\", StringType(), True),\n",
        "    StructField(\"course\", StringType(), True),\n",
        "    StructField(\"marks\", IntegerType(), True)\n",
        "])\n",
        "\n",
        "# Create DataFrame\n",
        "df = spark.createDataFrame(data, schema)"
      ]
    },
    {
      "cell_type": "code",
      "execution_count": null,
      "metadata": {
        "colab": {
          "background_save": true
        },
        "id": "otZpR15vokDJ",
        "outputId": "20bd296d-8bb4-44cb-a8e2-4234bf32ea7e"
      },
      "outputs": [
        {
          "name": "stdout",
          "output_type": "stream",
          "text": [
            "+----------+------+---+------+------+-----+\n",
            "|student_id|  name|age|gender|course|marks|\n",
            "+----------+------+---+------+------+-----+\n",
            "|         1| Anita| 20|     F|   BCA|   85|\n",
            "|         2| Rohit| 21|     M|   BSc|   78|\n",
            "|         3| Priya| 19|     F|  BCom|   90|\n",
            "|         4| Karan| 22|     M|    BA|   65|\n",
            "|         5|  Neha| 20|     F|   BSc|   72|\n",
            "|         6|Suresh| 23|     M|   BCA|   88|\n",
            "|         7| Divya| 21|     F|    BA|   69|\n",
            "|         8|  Ajay| 20|     M|  BCom|   75|\n",
            "|         9| Sonia| 22|     F|   BCA|   92|\n",
            "|        10| Arjun| 19|     M|   BSc|   60|\n",
            "|        11| Meena| 20|     F|  BCom|   84|\n",
            "|        12|   Raj| 21|     M|    BA|   70|\n",
            "|        13|  Asha| 22|     F|   BSc|   73|\n",
            "|        14|Nikhil| 20|     M|   BCA|   79|\n",
            "|        15|Preeti| 23|     F|  BCom|   86|\n",
            "|        16| Manoj| 21|     M|    BA|   66|\n",
            "|        17| Swati| 20|     F|   BSc|   80|\n",
            "|        18|Deepak| 22|     M|   BCA|   74|\n",
            "|        19| Kavya| 19|     F|  BCom|   91|\n",
            "|        20| Imran| 23|     M|    BA|   58|\n",
            "+----------+------+---+------+------+-----+\n",
            "only showing top 20 rows\n",
            "\n"
          ]
        }
      ],
      "source": [
        "df.show()"
      ]
    },
    {
      "cell_type": "code",
      "execution_count": null,
      "metadata": {
        "colab": {
          "background_save": true
        },
        "id": "hGqbmenFomXp",
        "outputId": "996b01e4-7e48-40a7-9ece-18bb7d29d829"
      },
      "outputs": [
        {
          "name": "stdout",
          "output_type": "stream",
          "text": [
            "+----------+------+---+------+------+-----+\n",
            "|student_id|  name|age|gender|course|marks|\n",
            "+----------+------+---+------+------+-----+\n",
            "|        20| Imran| 23|     M|    BA|   58|\n",
            "|        10| Arjun| 19|     M|   BSc|   60|\n",
            "|        24| Vinay| 21|     M|    BA|   61|\n",
            "|         4| Karan| 22|     M|    BA|   65|\n",
            "|        16| Manoj| 21|     M|    BA|   66|\n",
            "|        23|Sakshi| 20|     F|  BCom|   68|\n",
            "|         7| Divya| 21|     F|    BA|   69|\n",
            "|        12|   Raj| 21|     M|    BA|   70|\n",
            "|         5|  Neha| 20|     F|   BSc|   72|\n",
            "|        13|  Asha| 22|     F|   BSc|   73|\n",
            "|        18|Deepak| 22|     M|   BCA|   74|\n",
            "|        27| Rekha| 19|     F|    BA|   74|\n",
            "|         8|  Ajay| 20|     M|  BCom|   75|\n",
            "|        29| Sneha| 21|     F|   BSc|   76|\n",
            "|        21|Ritika| 21|     F|   BCA|   77|\n",
            "|         2| Rohit| 21|     M|   BSc|   78|\n",
            "|        14|Nikhil| 20|     M|   BCA|   79|\n",
            "|        17| Swati| 20|     F|   BSc|   80|\n",
            "|        28|Tushar| 23|     M|  BCom|   82|\n",
            "|        22|  Amit| 22|     M|   BSc|   83|\n",
            "+----------+------+---+------+------+-----+\n",
            "only showing top 20 rows\n",
            "\n"
          ]
        }
      ],
      "source": [
        "#sorting\n",
        "df.orderBy(\"marks\", ascending=True).show()"
      ]
    },
    {
      "cell_type": "code",
      "execution_count": null,
      "metadata": {
        "colab": {
          "background_save": true
        },
        "id": "zUpfhmnto6ph",
        "outputId": "3e4cbe6b-b5a8-4d39-e867-87194716644f"
      },
      "outputs": [
        {
          "name": "stdout",
          "output_type": "stream",
          "text": [
            "+----------+------+---+------+------+-----+\n",
            "|student_id|  name|age|gender|course|marks|\n",
            "+----------+------+---+------+------+-----+\n",
            "|        19| Kavya| 19|     F|  BCom|   91|\n",
            "|         3| Priya| 19|     F|  BCom|   90|\n",
            "|        27| Rekha| 19|     F|    BA|   74|\n",
            "|        10| Arjun| 19|     M|   BSc|   60|\n",
            "|        17| Swati| 20|     F|   BSc|   80|\n",
            "|         1| Anita| 20|     F|   BCA|   85|\n",
            "|        23|Sakshi| 20|     F|  BCom|   68|\n",
            "|         5|  Neha| 20|     F|   BSc|   72|\n",
            "|        26|  Anil| 20|     M|   BCA|   90|\n",
            "|         8|  Ajay| 20|     M|  BCom|   75|\n",
            "|        11| Meena| 20|     F|  BCom|   84|\n",
            "|        14|Nikhil| 20|     M|   BCA|   79|\n",
            "|        16| Manoj| 21|     M|    BA|   66|\n",
            "|         2| Rohit| 21|     M|   BSc|   78|\n",
            "|        21|Ritika| 21|     F|   BCA|   77|\n",
            "|         7| Divya| 21|     F|    BA|   69|\n",
            "|        24| Vinay| 21|     M|    BA|   61|\n",
            "|        12|   Raj| 21|     M|    BA|   70|\n",
            "|        29| Sneha| 21|     F|   BSc|   76|\n",
            "|         4| Karan| 22|     M|    BA|   65|\n",
            "+----------+------+---+------+------+-----+\n",
            "only showing top 20 rows\n",
            "\n"
          ]
        }
      ],
      "source": [
        "df.orderBy(\"age\").show()"
      ]
    },
    {
      "cell_type": "code",
      "execution_count": null,
      "metadata": {
        "colab": {
          "background_save": true
        },
        "id": "4VMdVz57pKt_",
        "outputId": "8b3445d9-9710-4905-adf7-ec25a60e6b7b"
      },
      "outputs": [
        {
          "name": "stdout",
          "output_type": "stream",
          "text": [
            "+----------+------+---+------+------+-----+\n",
            "|student_id|  name|age|gender|course|marks|\n",
            "+----------+------+---+------+------+-----+\n",
            "|        27| Rekha| 19|     F|    BA|   74|\n",
            "|        12|   Raj| 21|     M|    BA|   70|\n",
            "|         7| Divya| 21|     F|    BA|   69|\n",
            "|        16| Manoj| 21|     M|    BA|   66|\n",
            "|         4| Karan| 22|     M|    BA|   65|\n",
            "|        24| Vinay| 21|     M|    BA|   61|\n",
            "|        20| Imran| 23|     M|    BA|   58|\n",
            "|         9| Sonia| 22|     F|   BCA|   92|\n",
            "|        26|  Anil| 20|     M|   BCA|   90|\n",
            "|         6|Suresh| 23|     M|   BCA|   88|\n",
            "|        30|  Ravi| 22|     M|   BCA|   88|\n",
            "|         1| Anita| 20|     F|   BCA|   85|\n",
            "|        14|Nikhil| 20|     M|   BCA|   79|\n",
            "|        21|Ritika| 21|     F|   BCA|   77|\n",
            "|        18|Deepak| 22|     M|   BCA|   74|\n",
            "|        19| Kavya| 19|     F|  BCom|   91|\n",
            "|         3| Priya| 19|     F|  BCom|   90|\n",
            "|        15|Preeti| 23|     F|  BCom|   86|\n",
            "|        11| Meena| 20|     F|  BCom|   84|\n",
            "|        28|Tushar| 23|     M|  BCom|   82|\n",
            "+----------+------+---+------+------+-----+\n",
            "only showing top 20 rows\n",
            "\n"
          ]
        }
      ],
      "source": [
        "df.orderBy(\"course\", col(\"marks\").desc()).show()\n"
      ]
    },
    {
      "cell_type": "code",
      "execution_count": null,
      "metadata": {
        "colab": {
          "background_save": true
        },
        "id": "TfqXB0eVporl",
        "outputId": "1e8da206-a710-4a51-bb8e-812e7534bcbb"
      },
      "outputs": [
        {
          "name": "stdout",
          "output_type": "stream",
          "text": [
            "+----------+------+---+------+------+-----+\n",
            "|student_id|  name|age|gender|course|marks|\n",
            "+----------+------+---+------+------+-----+\n",
            "|         8|  Ajay| 20|     M|  BCom|   75|\n",
            "|        22|  Amit| 22|     M|   BSc|   83|\n",
            "|        26|  Anil| 20|     M|   BCA|   90|\n",
            "|         1| Anita| 20|     F|   BCA|   85|\n",
            "|        10| Arjun| 19|     M|   BSc|   60|\n",
            "|        13|  Asha| 22|     F|   BSc|   73|\n",
            "|        18|Deepak| 22|     M|   BCA|   74|\n",
            "|         7| Divya| 21|     F|    BA|   69|\n",
            "|        20| Imran| 23|     M|    BA|   58|\n",
            "|         4| Karan| 22|     M|    BA|   65|\n",
            "|        19| Kavya| 19|     F|  BCom|   91|\n",
            "|        16| Manoj| 21|     M|    BA|   66|\n",
            "|        11| Meena| 20|     F|  BCom|   84|\n",
            "|         5|  Neha| 20|     F|   BSc|   72|\n",
            "|        14|Nikhil| 20|     M|   BCA|   79|\n",
            "|        25| Pooja| 22|     F|   BSc|   87|\n",
            "|        15|Preeti| 23|     F|  BCom|   86|\n",
            "|         3| Priya| 19|     F|  BCom|   90|\n",
            "|        12|   Raj| 21|     M|    BA|   70|\n",
            "|        30|  Ravi| 22|     M|   BCA|   88|\n",
            "+----------+------+---+------+------+-----+\n",
            "only showing top 20 rows\n",
            "\n"
          ]
        }
      ],
      "source": [
        "df.orderBy(\"name\").show()\n"
      ]
    },
    {
      "cell_type": "code",
      "execution_count": null,
      "metadata": {
        "colab": {
          "background_save": true
        },
        "id": "0ns-TqVJpsz3",
        "outputId": "a5e87046-72cd-402a-f517-03376c7c3846"
      },
      "outputs": [
        {
          "name": "stdout",
          "output_type": "stream",
          "text": [
            "+----------+------+---+------+------+-----+\n",
            "|student_id|  name|age|gender|course|marks|\n",
            "+----------+------+---+------+------+-----+\n",
            "|        20| Imran| 23|     M|    BA|   58|\n",
            "|        24| Vinay| 21|     M|    BA|   61|\n",
            "|         4| Karan| 22|     M|    BA|   65|\n",
            "|        16| Manoj| 21|     M|    BA|   66|\n",
            "|         7| Divya| 21|     F|    BA|   69|\n",
            "|        12|   Raj| 21|     M|    BA|   70|\n",
            "|        27| Rekha| 19|     F|    BA|   74|\n",
            "|        18|Deepak| 22|     M|   BCA|   74|\n",
            "|        21|Ritika| 21|     F|   BCA|   77|\n",
            "|        14|Nikhil| 20|     M|   BCA|   79|\n",
            "|         1| Anita| 20|     F|   BCA|   85|\n",
            "|        30|  Ravi| 22|     M|   BCA|   88|\n",
            "|         6|Suresh| 23|     M|   BCA|   88|\n",
            "|        26|  Anil| 20|     M|   BCA|   90|\n",
            "|         9| Sonia| 22|     F|   BCA|   92|\n",
            "|        23|Sakshi| 20|     F|  BCom|   68|\n",
            "|         8|  Ajay| 20|     M|  BCom|   75|\n",
            "|        28|Tushar| 23|     M|  BCom|   82|\n",
            "|        11| Meena| 20|     F|  BCom|   84|\n",
            "|        15|Preeti| 23|     F|  BCom|   86|\n",
            "+----------+------+---+------+------+-----+\n",
            "only showing top 20 rows\n",
            "\n"
          ]
        }
      ],
      "source": [
        "df.orderBy(\"course\", \"marks\").show()\n"
      ]
    },
    {
      "cell_type": "code",
      "execution_count": null,
      "metadata": {
        "colab": {
          "background_save": true
        },
        "id": "nNASbj1Zp3Yq",
        "outputId": "2ea911e7-2dc9-4110-d445-ea9ca6265b6f"
      },
      "outputs": [
        {
          "name": "stdout",
          "output_type": "stream",
          "text": [
            "+----------+------+---+------+------+-----+\n",
            "|student_id|  name|age|gender|course|marks|\n",
            "+----------+------+---+------+------+-----+\n",
            "|         1| Anita| 20|     F|   BCA|   85|\n",
            "|         2| Rohit| 21|     M|   BSc|   78|\n",
            "|         3| Priya| 19|     F|  BCom|   90|\n",
            "|         4| Karan| 22|     M|    BA|   65|\n",
            "|         5|  Neha| 20|     F|   BSc|   72|\n",
            "|         6|Suresh| 23|     M|   BCA|   88|\n",
            "|         7| Divya| 21|     F|    BA|   69|\n",
            "|         8|  Ajay| 20|     M|  BCom|   75|\n",
            "|         9| Sonia| 22|     F|   BCA|   92|\n",
            "|        10| Arjun| 19|     M|   BSc|   60|\n",
            "|        11| Meena| 20|     F|  BCom|   84|\n",
            "|        12|   Raj| 21|     M|    BA|   70|\n",
            "|        13|  Asha| 22|     F|   BSc|   73|\n",
            "|        14|Nikhil| 20|     M|   BCA|   79|\n",
            "|        15|Preeti| 23|     F|  BCom|   86|\n",
            "|        16| Manoj| 21|     M|    BA|   66|\n",
            "|        17| Swati| 20|     F|   BSc|   80|\n",
            "|        18|Deepak| 22|     M|   BCA|   74|\n",
            "|        19| Kavya| 19|     F|  BCom|   91|\n",
            "|        20| Imran| 23|     M|    BA|   58|\n",
            "+----------+------+---+------+------+-----+\n",
            "only showing top 20 rows\n",
            "\n"
          ]
        }
      ],
      "source": [
        "df.sort(\"student_id\").show()\n"
      ]
    },
    {
      "cell_type": "code",
      "execution_count": null,
      "metadata": {
        "colab": {
          "background_save": true
        },
        "id": "Cipv3tshqNeT"
      },
      "outputs": [],
      "source": [
        "# Registering the DataFrame as a SQL temporary view\n",
        "df.createOrReplaceTempView(\"EMP\")"
      ]
    },
    {
      "cell_type": "code",
      "execution_count": null,
      "metadata": {
        "colab": {
          "background_save": true
        },
        "id": "mnH-EAQ5wYeC",
        "outputId": "071bb01d-6075-45af-dd9f-6f8946bea91e"
      },
      "outputs": [
        {
          "name": "stdout",
          "output_type": "stream",
          "text": [
            "+----------+------+------+------+-----+\n",
            "|student_id|name  |gender|course|marks|\n",
            "+----------+------+------+------+-----+\n",
            "|27        |Rekha |F     |BA    |74   |\n",
            "|12        |Raj   |M     |BA    |70   |\n",
            "|7         |Divya |F     |BA    |69   |\n",
            "|16        |Manoj |M     |BA    |66   |\n",
            "|4         |Karan |M     |BA    |65   |\n",
            "|24        |Vinay |M     |BA    |61   |\n",
            "|20        |Imran |M     |BA    |58   |\n",
            "|9         |Sonia |F     |BCA   |92   |\n",
            "|26        |Anil  |M     |BCA   |90   |\n",
            "|6         |Suresh|M     |BCA   |88   |\n",
            "|30        |Ravi  |M     |BCA   |88   |\n",
            "|1         |Anita |F     |BCA   |85   |\n",
            "|14        |Nikhil|M     |BCA   |79   |\n",
            "|21        |Ritika|F     |BCA   |77   |\n",
            "|18        |Deepak|M     |BCA   |74   |\n",
            "|19        |Kavya |F     |BCom  |91   |\n",
            "|3         |Priya |F     |BCom  |90   |\n",
            "|15        |Preeti|F     |BCom  |86   |\n",
            "|11        |Meena |F     |BCom  |84   |\n",
            "|28        |Tushar|M     |BCom  |82   |\n",
            "+----------+------+------+------+-----+\n",
            "only showing top 20 rows\n",
            "\n"
          ]
        }
      ],
      "source": [
        "spark.sql(\"\"\"\n",
        "    SELECT student_id, name, gender, course, marks\n",
        "    FROM EMP\n",
        "    ORDER BY course ASC, marks DESC\n",
        "\"\"\").show(truncate=False)\n"
      ]
    },
    {
      "cell_type": "code",
      "execution_count": null,
      "metadata": {
        "colab": {
          "background_save": true
        },
        "id": "kDonVNjJxBhN",
        "outputId": "ad4c4ea3-395c-48ca-e159-b65f41da2c90"
      },
      "outputs": [
        {
          "name": "stdout",
          "output_type": "stream",
          "text": [
            "+------+-----------------+\n",
            "|course|        avg_marks|\n",
            "+------+-----------------+\n",
            "|  BCom|82.28571428571429|\n",
            "|    BA|66.14285714285714|\n",
            "|   BSc|           76.125|\n",
            "|   BCA|           84.125|\n",
            "+------+-----------------+\n",
            "\n"
          ]
        }
      ],
      "source": [
        "#Group by Course – average marks  of Students\n",
        "spark.sql(\"\"\"\n",
        "    SELECT course, AVG(marks) AS avg_marks\n",
        "    FROM EMP\n",
        "    GROUP BY course\n",
        "\"\"\").show()\n"
      ]
    },
    {
      "cell_type": "code",
      "execution_count": null,
      "metadata": {
        "colab": {
          "background_save": true
        },
        "id": "6m-lVBHaxp6G",
        "outputId": "2b532a91-9a1a-4c0b-d68f-7ac19e793a2e"
      },
      "outputs": [
        {
          "name": "stdout",
          "output_type": "stream",
          "text": [
            "+------+------------+\n",
            "|gender|highest_mark|\n",
            "+------+------------+\n",
            "|     F|          92|\n",
            "|     M|          90|\n",
            "+------+------------+\n",
            "\n"
          ]
        }
      ],
      "source": [
        "#Group by Gender – Max Marks\n",
        "spark.sql(\"\"\"\n",
        "    SELECT gender, MAX(marks) AS highest_mark\n",
        "    FROM EMP\n",
        "    GROUP BY gender\n",
        "\"\"\").show()\n",
        "\n"
      ]
    },
    {
      "cell_type": "code",
      "execution_count": null,
      "metadata": {
        "colab": {
          "background_save": true
        },
        "id": "3LmSNQpVyHy8",
        "outputId": "888a21f3-b18f-4532-fbb2-87a9e0dba2aa"
      },
      "outputs": [
        {
          "name": "stdout",
          "output_type": "stream",
          "text": [
            "+------+-----------------+\n",
            "|gender|       avg(marks)|\n",
            "+------+-----------------+\n",
            "|     F|80.26666666666667|\n",
            "|     M|74.46666666666667|\n",
            "+------+-----------------+\n",
            "\n"
          ]
        }
      ],
      "source": [
        "#Group by gender – average of marks\n",
        "spark.sql(\"\"\"\n",
        "    SELECT gender, AVG(marks)\n",
        "    FROM EMP\n",
        "    GROUP BY gender\n",
        "\"\"\").show()\n"
      ]
    },
    {
      "cell_type": "code",
      "execution_count": null,
      "metadata": {
        "colab": {
          "background_save": true
        },
        "id": "nXNVXWD5yVws",
        "outputId": "73289004-0f3c-4bed-cb78-ab9b9e4a5587"
      },
      "outputs": [
        {
          "name": "stdout",
          "output_type": "stream",
          "text": [
            "+------+------+-----------------+\n",
            "|course|gender|        avg_marks|\n",
            "+------+------+-----------------+\n",
            "|  BCom|     F|             83.8|\n",
            "|   BCA|     F|84.66666666666667|\n",
            "|   BSc|     F|             77.6|\n",
            "|    BA|     M|             64.0|\n",
            "|   BSc|     M|73.66666666666667|\n",
            "|   BCA|     M|             83.8|\n",
            "|    BA|     F|             71.5|\n",
            "|  BCom|     M|             78.5|\n",
            "+------+------+-----------------+\n",
            "\n"
          ]
        }
      ],
      "source": [
        "#Group by Course and Gender – Average Marks\n",
        "spark.sql(\"\"\"\n",
        "    SELECT course, gender, AVG(marks) AS avg_marks\n",
        "    FROM EMP\n",
        "    GROUP BY course, gender\n",
        "\"\"\").show()\n"
      ]
    },
    {
      "cell_type": "code",
      "execution_count": null,
      "metadata": {
        "colab": {
          "background_save": true
        },
        "id": "RkzI9bA3zdkN",
        "outputId": "6cec8162-de0c-4897-f9ae-edfcdb6e895a"
      },
      "outputs": [
        {
          "name": "stdout",
          "output_type": "stream",
          "text": [
            "+---+-----------+\n",
            "|age|total_marks|\n",
            "+---+-----------+\n",
            "| 22|        562|\n",
            "| 20|        633|\n",
            "| 19|        315|\n",
            "| 23|        314|\n",
            "| 21|        497|\n",
            "+---+-----------+\n",
            "\n"
          ]
        }
      ],
      "source": [
        "#Group by Age – Total Marks\n",
        "spark.sql(\"\"\"\n",
        "    SELECT age, SUM(marks) AS total_marks\n",
        "    FROM EMP\n",
        "    GROUP BY age\n",
        "\"\"\").show()\n"
      ]
    },
    {
      "cell_type": "code",
      "execution_count": null,
      "metadata": {
        "colab": {
          "background_save": true
        },
        "id": "_x8i_ARFz1xw",
        "outputId": "aa6ddb31-8aa7-4724-f1a9-db15f980f902"
      },
      "outputs": [
        {
          "name": "stdout",
          "output_type": "stream",
          "text": [
            "+------+---------+---------+\n",
            "|course|min_marks|max_marks|\n",
            "+------+---------+---------+\n",
            "|  BCom|       68|       91|\n",
            "|    BA|       58|       74|\n",
            "|   BSc|       60|       87|\n",
            "|   BCA|       74|       92|\n",
            "+------+---------+---------+\n",
            "\n"
          ]
        }
      ],
      "source": [
        "#Group by Course – Min & Max Marks\n",
        "spark.sql(\"\"\"\n",
        "    SELECT course, MIN(marks) AS min_marks, MAX(marks) AS max_marks\n",
        "    FROM EMP\n",
        "    GROUP BY course\n",
        "\"\"\").show()\n"
      ]
    },
    {
      "cell_type": "code",
      "execution_count": null,
      "metadata": {
        "colab": {
          "background_save": true
        },
        "id": "_ZoLuRNv0IIp",
        "outputId": "b2a948a2-6f53-459c-d32a-08a73d8a7acf"
      },
      "outputs": [
        {
          "name": "stdout",
          "output_type": "stream",
          "text": [
            "+------+------------+\n",
            "|course|course_count|\n",
            "+------+------------+\n",
            "|  BCom|           7|\n",
            "|    BA|           7|\n",
            "|   BSc|           8|\n",
            "|   BCA|           8|\n",
            "+------+------------+\n",
            "\n"
          ]
        }
      ],
      "source": [
        "#Count Students per Course\n",
        "spark.sql(\"SELECT course, COUNT(*) AS course_count FROM EMP GROUP BY course\").show()\n"
      ]
    },
    {
      "cell_type": "code",
      "execution_count": null,
      "metadata": {
        "colab": {
          "background_save": true
        },
        "id": "gmPBnUBi00NI",
        "outputId": "0051e44f-0701-40ee-99d5-79ba18ed90dc"
      },
      "outputs": [
        {
          "name": "stdout",
          "output_type": "stream",
          "text": [
            "+------+------------+\n",
            "|gender|gender_count|\n",
            "+------+------------+\n",
            "|     F|          15|\n",
            "|     M|          15|\n",
            "+------+------------+\n",
            "\n"
          ]
        }
      ],
      "source": [
        " #Count Students by Gender\n",
        " spark.sql(\"SELECT gender, COUNT(*) AS gender_count FROM EMP GROUP BY gender\").show()\n"
      ]
    },
    {
      "cell_type": "code",
      "execution_count": null,
      "metadata": {
        "colab": {
          "background_save": true
        },
        "id": "knBtUSW41cSl"
      },
      "outputs": [],
      "source": []
    }
  ],
  "metadata": {
    "colab": {
      "provenance": []
    },
    "kernelspec": {
      "display_name": "Python 3",
      "name": "python3"
    },
    "language_info": {
      "name": "python"
    }
  },
  "nbformat": 4,
  "nbformat_minor": 0
}